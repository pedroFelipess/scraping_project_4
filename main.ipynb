{
 "cells": [
  {
   "cell_type": "code",
   "execution_count": 1,
   "metadata": {},
   "outputs": [],
   "source": [
    "import requests\n",
    "import pandas as pd"
   ]
  },
  {
   "cell_type": "code",
   "execution_count": 2,
   "metadata": {},
   "outputs": [],
   "source": [
    "header = {'User-Agent': 'Mozilla/5.0 (Windows NT 10.0; Win64; x64)\\\n",
    " AppleWebKit/537.36 (KHTML, like Gecko) Chrome/133.0.0.0 Safari/537.36'}\n",
    "\n",
    "url = 'https://br.investing.com/etfs/brazil-etfs'"
   ]
  },
  {
   "cell_type": "code",
   "execution_count": 3,
   "metadata": {},
   "outputs": [
    {
     "name": "stderr",
     "output_type": "stream",
     "text": [
      "C:\\Users\\pedro\\AppData\\Local\\Temp\\ipykernel_8704\\2502050082.py:2: FutureWarning: Passing literal html to 'read_html' is deprecated and will be removed in a future version. To read from a literal string, wrap it in a 'StringIO' object.\n",
      "  df = pd.read_html(response.text)\n"
     ]
    }
   ],
   "source": [
    "response = requests.get(url, headers=header)\n",
    "df = pd.read_html(response.text)"
   ]
  },
  {
   "cell_type": "code",
   "execution_count": 4,
   "metadata": {},
   "outputs": [],
   "source": [
    "df_etfs = df[0].drop(columns=['Unnamed: 0', 'Unnamed: 7'])\n",
    "df_etfs.iloc[:, 2] = df_etfs.iloc[:, 2].apply(lambda x: x / 100)\n",
    "df_etfs.iloc[:, 3] = df_etfs.iloc[:, 3].apply(lambda x: x.replace(',', '.'))"
   ]
  },
  {
   "cell_type": "code",
   "execution_count": 5,
   "metadata": {},
   "outputs": [
    {
     "data": {
      "text/html": [
       "<div>\n",
       "<style scoped>\n",
       "    .dataframe tbody tr th:only-of-type {\n",
       "        vertical-align: middle;\n",
       "    }\n",
       "\n",
       "    .dataframe tbody tr th {\n",
       "        vertical-align: top;\n",
       "    }\n",
       "\n",
       "    .dataframe thead th {\n",
       "        text-align: right;\n",
       "    }\n",
       "</style>\n",
       "<table border=\"1\" class=\"dataframe\">\n",
       "  <thead>\n",
       "    <tr style=\"text-align: right;\">\n",
       "      <th></th>\n",
       "      <th>Nome</th>\n",
       "      <th>Código</th>\n",
       "      <th>Último</th>\n",
       "      <th>Var%</th>\n",
       "      <th>Vol.</th>\n",
       "      <th>Hora</th>\n",
       "    </tr>\n",
       "  </thead>\n",
       "  <tbody>\n",
       "    <tr>\n",
       "      <th>0</th>\n",
       "      <td>iShares Ibovespa ETF</td>\n",
       "      <td>BOVA11</td>\n",
       "      <td>122.06</td>\n",
       "      <td>-0.63%</td>\n",
       "      <td>2,57M</td>\n",
       "      <td>16:11:32</td>\n",
       "    </tr>\n",
       "    <tr>\n",
       "      <th>1</th>\n",
       "      <td>It Now Ibovespa ETF</td>\n",
       "      <td>BOVV11</td>\n",
       "      <td>127.96</td>\n",
       "      <td>-0.69%</td>\n",
       "      <td>1,64M</td>\n",
       "      <td>16:11:14</td>\n",
       "    </tr>\n",
       "    <tr>\n",
       "      <th>2</th>\n",
       "      <td>iShares BM&amp;FBOVESPA Small Cap ETF</td>\n",
       "      <td>SMAL11</td>\n",
       "      <td>89.62</td>\n",
       "      <td>-1.08%</td>\n",
       "      <td>850,55K</td>\n",
       "      <td>16:11:30</td>\n",
       "    </tr>\n",
       "    <tr>\n",
       "      <th>3</th>\n",
       "      <td>Hashdex Nasdaq Crypto ETF</td>\n",
       "      <td>HASH11</td>\n",
       "      <td>68.01</td>\n",
       "      <td>-2.07%</td>\n",
       "      <td>632,25K</td>\n",
       "      <td>16:11:44</td>\n",
       "    </tr>\n",
       "    <tr>\n",
       "      <th>4</th>\n",
       "      <td>QR CME CF Bitcoin Reference Rate ETF</td>\n",
       "      <td>QBTC11</td>\n",
       "      <td>30.10</td>\n",
       "      <td>-2.90%</td>\n",
       "      <td>616,96K</td>\n",
       "      <td>16:11:47</td>\n",
       "    </tr>\n",
       "    <tr>\n",
       "      <th>...</th>\n",
       "      <td>...</td>\n",
       "      <td>...</td>\n",
       "      <td>...</td>\n",
       "      <td>...</td>\n",
       "      <td>...</td>\n",
       "      <td>...</td>\n",
       "    </tr>\n",
       "    <tr>\n",
       "      <th>225</th>\n",
       "      <td>iShares MSCI Global Min Vol Factor BDR</td>\n",
       "      <td>BCWV39</td>\n",
       "      <td>65.24</td>\n",
       "      <td>0.00%</td>\n",
       "      <td>0</td>\n",
       "      <td>19/02</td>\n",
       "    </tr>\n",
       "    <tr>\n",
       "      <th>226</th>\n",
       "      <td>iShares MSCI Spain BDR</td>\n",
       "      <td>BEWP39</td>\n",
       "      <td>67.74</td>\n",
       "      <td>0.00%</td>\n",
       "      <td>0</td>\n",
       "      <td>20/02</td>\n",
       "    </tr>\n",
       "    <tr>\n",
       "      <th>227</th>\n",
       "      <td>iShares MSCI Hong Kong BDR</td>\n",
       "      <td>BEWH39</td>\n",
       "      <td>31.45</td>\n",
       "      <td>0.00%</td>\n",
       "      <td>0</td>\n",
       "      <td>05/02</td>\n",
       "    </tr>\n",
       "    <tr>\n",
       "      <th>228</th>\n",
       "      <td>B-INDEX MORNINGSTAR BRASIL PESOS IGUAIS</td>\n",
       "      <td>BREW11</td>\n",
       "      <td>110.61</td>\n",
       "      <td>+0.00%</td>\n",
       "      <td>0</td>\n",
       "      <td>25/02</td>\n",
       "    </tr>\n",
       "    <tr>\n",
       "      <th>229</th>\n",
       "      <td>Xtrackers MSCI Europe UCITS BDR</td>\n",
       "      <td>BEUR39</td>\n",
       "      <td>NaN</td>\n",
       "      <td>%</td>\n",
       "      <td>NaN</td>\n",
       "      <td>NaN</td>\n",
       "    </tr>\n",
       "  </tbody>\n",
       "</table>\n",
       "<p>230 rows × 6 columns</p>\n",
       "</div>"
      ],
      "text/plain": [
       "                                        Nome  Código  Último    Var%     Vol.  \\\n",
       "0                       iShares Ibovespa ETF  BOVA11  122.06  -0.63%    2,57M   \n",
       "1                        It Now Ibovespa ETF  BOVV11  127.96  -0.69%    1,64M   \n",
       "2          iShares BM&FBOVESPA Small Cap ETF  SMAL11   89.62  -1.08%  850,55K   \n",
       "3                  Hashdex Nasdaq Crypto ETF  HASH11   68.01  -2.07%  632,25K   \n",
       "4       QR CME CF Bitcoin Reference Rate ETF  QBTC11   30.10  -2.90%  616,96K   \n",
       "..                                       ...     ...     ...     ...      ...   \n",
       "225   iShares MSCI Global Min Vol Factor BDR  BCWV39   65.24   0.00%        0   \n",
       "226                   iShares MSCI Spain BDR  BEWP39   67.74   0.00%        0   \n",
       "227               iShares MSCI Hong Kong BDR  BEWH39   31.45   0.00%        0   \n",
       "228  B-INDEX MORNINGSTAR BRASIL PESOS IGUAIS  BREW11  110.61  +0.00%        0   \n",
       "229          Xtrackers MSCI Europe UCITS BDR  BEUR39     NaN       %      NaN   \n",
       "\n",
       "         Hora  \n",
       "0    16:11:32  \n",
       "1    16:11:14  \n",
       "2    16:11:30  \n",
       "3    16:11:44  \n",
       "4    16:11:47  \n",
       "..        ...  \n",
       "225     19/02  \n",
       "226     20/02  \n",
       "227     05/02  \n",
       "228     25/02  \n",
       "229       NaN  \n",
       "\n",
       "[230 rows x 6 columns]"
      ]
     },
     "execution_count": 5,
     "metadata": {},
     "output_type": "execute_result"
    }
   ],
   "source": [
    "df_etfs"
   ]
  },
  {
   "cell_type": "code",
   "execution_count": 6,
   "metadata": {},
   "outputs": [],
   "source": [
    "df_etfs.to_csv('etfs_table.csv', encoding='utf8')"
   ]
  }
 ],
 "metadata": {
  "kernelspec": {
   "display_name": "venv",
   "language": "python",
   "name": "python3"
  },
  "language_info": {
   "codemirror_mode": {
    "name": "ipython",
    "version": 3
   },
   "file_extension": ".py",
   "mimetype": "text/x-python",
   "name": "python",
   "nbconvert_exporter": "python",
   "pygments_lexer": "ipython3",
   "version": "3.11.9"
  }
 },
 "nbformat": 4,
 "nbformat_minor": 2
}
